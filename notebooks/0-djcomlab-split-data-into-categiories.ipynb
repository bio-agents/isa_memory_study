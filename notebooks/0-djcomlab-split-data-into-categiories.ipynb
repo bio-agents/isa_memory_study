{
 "cells": [
  {
   "cell_type": "code",
   "execution_count": 1,
   "metadata": {},
   "outputs": [],
   "source": [
    "import pandas as pd\n",
    "import numpy as np"
   ]
  },
  {
   "cell_type": "code",
   "execution_count": 2,
   "metadata": {},
   "outputs": [],
   "source": [
    "df = pd.read_csv(\"../data/processed/memory_footprint.csv\")"
   ]
  },
  {
   "cell_type": "code",
   "execution_count": 3,
   "metadata": {},
   "outputs": [],
   "source": [
    "# put the records by category to help with downstream processing\n",
    "disk_sizes = []\n",
    "obj_sizes = []\n",
    "categories = []\n",
    "\n",
    "for _, row in df.iterrows():\n",
    "    disk_sizes.append(row.disk_size)\n",
    "    obj_sizes.append(row.df_size)\n",
    "    categories.append('DataFrame')\n",
    "    disk_sizes.append(row.disk_size)\n",
    "    obj_sizes.append(row.isa_size)\n",
    "    categories.append('ISA')\n",
    "\n",
    "df_by_cat = pd.DataFrame({\n",
    "    'disk_size': disk_sizes,\n",
    "    'size': obj_sizes,\n",
    "    'log_size': np.log(obj_sizes),\n",
    "    'category': categories\n",
    "})"
   ]
  },
  {
   "cell_type": "code",
   "execution_count": 4,
   "metadata": {},
   "outputs": [],
   "source": [
    "df_sorted = df_by_cat.sort_values(by='category')\n",
    "df_sorted.to_csv('../data/processed/memory_footprint_by_category.csv', index=None)"
   ]
  },
  {
   "cell_type": "code",
   "execution_count": null,
   "metadata": {},
   "outputs": [],
   "source": []
  }
 ],
 "metadata": {
  "kernelspec": {
   "display_name": "Python 3",
   "language": "python",
   "name": "python3"
  },
  "language_info": {
   "codemirror_mode": {
    "name": "ipython",
    "version": 3
   },
   "file_extension": ".py",
   "mimetype": "text/x-python",
   "name": "python",
   "nbconvert_exporter": "python",
   "pygments_lexer": "ipython3",
   "version": "3.6.8"
  }
 },
 "nbformat": 4,
 "nbformat_minor": 2
}
